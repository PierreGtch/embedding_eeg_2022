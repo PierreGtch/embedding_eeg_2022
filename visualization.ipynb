{
 "cells": [
  {
   "cell_type": "markdown",
   "id": "716811bb-6d0f-4b55-b903-793cb5136e19",
   "metadata": {},
   "source": [
    "# Visualisation\n",
    "## Preparation"
   ]
  },
  {
   "cell_type": "code",
   "execution_count": null,
   "id": "01d3bdf1-a06b-4551-b652-ac438b4d3734",
   "metadata": {},
   "outputs": [],
   "source": [
    "from pathlib import Path\n",
    "\n",
    "import yaml\n",
    "\n",
    "import numpy as np\n",
    "import pandas as pd\n",
    "from torch.nn import MSELoss\n",
    "from sklearn.pipeline import make_pipeline\n",
    "from sklearn.preprocessing import FunctionTransformer\n",
    "from sklearn.manifold import TSNE\n",
    "from umap import UMAP\n",
    "\n",
    "import moabb\n",
    "from moabb.datasets import Schirrmeister2017\n",
    "from moabb.evaluations import CrossSubjectEvaluation, WithinSessionEvaluation\n",
    "from moabb.paradigms import MotorImagery, FilterBankMotorImagery\n",
    "from moabb.analysis import Results\n",
    "\n",
    "import matplotlib.pyplot as plt\n",
    "import matplotlib.ticker as mticker\n",
    "import seaborn as sns\n",
    "%matplotlib inline\n",
    "\n",
    "from models import EEGNetv4\n",
    "from skorch_frozen import FrozenNeuralNetTransformer\n",
    "\n",
    "moabb.set_log_level(\"info\")"
   ]
  },
  {
   "cell_type": "markdown",
   "id": "d895d1ab-03a9-4686-b6a4-b524b3f4fca3",
   "metadata": {},
   "source": [
    "### Load condig"
   ]
  },
  {
   "cell_type": "code",
   "execution_count": null,
   "id": "69b8877a-7438-4e06-9afc-0b4ae3e3c1cb",
   "metadata": {},
   "outputs": [],
   "source": [
    "config_file = Path( 'config.yaml')\n",
    "local_config_file = Path('local_config.yaml')\n",
    "with config_file.open('r') as f:\n",
    "    config = yaml.safe_load(f)\n",
    "with local_config_file.open('r') as f:\n",
    "    local_config = yaml.safe_load(f)\n",
    "suffix = local_config['evaluation_params']['base']['suffix']\n",
    "n_classes = config['paradigm_params']['base']['n_classes']\n",
    "channels = config['paradigm_params']['base']['channels']\n",
    "resample = config['paradigm_params']['base']['resample']\n",
    "t0, t1 = Schirrmeister2017().interval\n"
   ]
  },
  {
   "cell_type": "markdown",
   "id": "2596725e-8774-4cb4-9c86-c366e5aa7a22",
   "metadata": {},
   "source": [
    "### Dataset"
   ]
  },
  {
   "cell_type": "code",
   "execution_count": null,
   "id": "4b4b3d78-eb5b-4a7d-a379-6a3dc8500f1b",
   "metadata": {},
   "outputs": [],
   "source": [
    "dataset = Schirrmeister2017()\n",
    "\n",
    "paradigm = MotorImagery(\n",
    "    **config['paradigm_params']['base'],\n",
    "    **config['paradigm_params']['single_band'],\n",
    ")\n"
   ]
  },
  {
   "cell_type": "markdown",
   "id": "e4f5a8d7-bd79-488d-9f76-8f76e6560f53",
   "metadata": {},
   "source": [
    "### Get network checkpoint paths"
   ]
  },
  {
   "cell_type": "code",
   "execution_count": null,
   "id": "36a36382-4847-4c25-abd6-dc0a4bb71e81",
   "metadata": {},
   "outputs": [],
   "source": [
    "results_param_names = ['hdf5_path', 'additional_columns'] # do not use overwrite=True !!\n",
    "results_params = {k: local_config['evaluation_params']['base'][k] for k in results_param_names if\n",
    "                  k in local_config['evaluation_params']['base']}\n",
    "results_params['overwrite'] = False\n",
    "\n",
    "fake_results = Results(CrossSubjectEvaluation, MotorImagery, **results_params)\n",
    "checkpoints_root_dir = Path(fake_results.filepath).parent\n",
    "del fake_results\n",
    "checkpoints_dict = {}\n",
    "for subject in dataset.subject_list:\n",
    "    path = checkpoints_root_dir / str(subject)\n",
    "    files = list(path.glob('*.ckpt'))\n",
    "    if len(files) != 1:\n",
    "        raise ValueError(f'Multiple or no checkpoint file(s) present at {path}')\n",
    "    checkpoints_dict[subject] = str(files[0])\n",
    "\n",
    "checkpoints_dict\n"
   ]
  },
  {
   "cell_type": "markdown",
   "id": "d2930d0f-6bc4-445d-953a-f8ed64c35b34",
   "metadata": {},
   "source": [
    "### Load embedding functions"
   ]
  },
  {
   "cell_type": "code",
   "execution_count": null,
   "id": "e1a6879e-8f9f-4919-b22f-4f828859d566",
   "metadata": {},
   "outputs": [],
   "source": [
    "embeddings_dict = {\n",
    "    subject: FrozenNeuralNetTransformer(EEGNetv4.load_from_checkpoint(checkpoint_path).embedding, criterion=MSELoss)\n",
    "    for subject, checkpoint_path in checkpoints_dict.items()\n",
    "}\n",
    "\n",
    "# embeddings_dict\n"
   ]
  },
  {
   "cell_type": "markdown",
   "id": "8e485256-0f4c-4c11-b39f-6ef4dad711d0",
   "metadata": {},
   "source": [
    "### Load data"
   ]
  },
  {
   "cell_type": "code",
   "execution_count": null,
   "id": "3679b15c-ca69-4b59-8806-c486a0629102",
   "metadata": {},
   "outputs": [],
   "source": [
    "X, labels, metadata = paradigm.get_data(dataset, return_epochs=False)\n",
    "X = X.astype('float32')"
   ]
  },
  {
   "cell_type": "markdown",
   "id": "c20f32b9-acc3-42be-8781-44fdc03d0cf4",
   "metadata": {},
   "source": [
    "### Load results"
   ]
  },
  {
   "cell_type": "code",
   "execution_count": null,
   "id": "f243d4f5-39a3-44ba-8e11-b2bb7959d1eb",
   "metadata": {},
   "outputs": [],
   "source": [
    "results_FBCSP = Results(WithinSessionEvaluation, FilterBankMotorImagery, suffix='', **results_params)\n",
    "results_EEGNetLP = Results(WithinSessionEvaluation, MotorImagery, suffix='', **results_params)\n",
    "results_FBCSP_as = Results(WithinSessionEvaluation, FilterBankMotorImagery, suffix='all_samples', **results_params)\n",
    "results_EEGNetLP_as = Results(WithinSessionEvaluation, MotorImagery, suffix='all_samples', **results_params)\n",
    "results_EEGNet = Results(CrossSubjectEvaluation, MotorImagery, suffix='', **results_params)\n",
    "\n",
    "results_ws = pd.concat([\n",
    "    results_FBCSP.to_dataframe(),\n",
    "    results_EEGNetLP.to_dataframe(),\n",
    "], join='outer', ignore_index=True)\n",
    "\n",
    "results_ws_as = pd.concat([\n",
    "    results_FBCSP_as.to_dataframe(),\n",
    "    results_EEGNetLP_as.to_dataframe(),\n",
    "], join='outer', ignore_index=True)\n",
    "\n",
    "results_cs = results_EEGNet.to_dataframe()\n",
    "\n",
    "\n",
    "del results_FBCSP, results_EEGNet, results_FBCSP_as, results_EEGNetLP_as, results_EEGNetLP\n",
    "# results_df\n"
   ]
  },
  {
   "cell_type": "code",
   "execution_count": null,
   "id": "d26b4583-92f4-4b00-8818-b79d8ecae131",
   "metadata": {},
   "outputs": [],
   "source": [
    "# complet results\n",
    "calibration_col = 'Individual calibration'\n",
    "score_col = 'Accuracy'\n",
    "time_col = 'Calibration time [s]'\n",
    "samples_col = 'Number of calibration trials per class'\n",
    "subject_col = 'Subject'\n",
    "pipeline_col = 'Pipeline'\n",
    "pipeline_names_map = {\n",
    "    'FBCSP+LogisticReg': 'FBCSP',\n",
    "    'EEGNet+LP': 'EEGNet+LP',\n",
    "    'EEGNet-CrossSubject': 'EEGNet',\n",
    "}\n",
    "def complete_ressults(results_df):\n",
    "    results_df[calibration_col] = results_df.pipeline.isin(['FBCSP+LogisticReg','EEGNet+LP'])\n",
    "\n",
    "    results_df[score_col] = results_df.score\n",
    "\n",
    "    results_df[time_col] = results_df.time\n",
    "    results_df.loc[~results_df[calibration_col], time_col] = 0.0\n",
    "\n",
    "    results_df[samples_col] = results_df.samples / 4\n",
    "    results_df.loc[~results_df[calibration_col], samples_col] = np.nan\n",
    "\n",
    "    results_df[subject_col] = results_df.subject\n",
    "\n",
    "    results_df[pipeline_col] = results_df.pipeline.map(pipeline_names_map)\n",
    "    assert not results_df[pipeline_col].isnull().any()\n",
    "\n",
    "    return results_df\n",
    "\n",
    "for r in [results_ws, results_cs, results_ws_as]:\n",
    "    complete_ressults(r)\n",
    "results_df = pd.concat([results_ws, results_cs], join='outer', ignore_index=True)\n"
   ]
  },
  {
   "cell_type": "markdown",
   "id": "cf2e8455-a1d0-4edd-87cf-ea905324210c",
   "metadata": {},
   "source": [
    "### Prepare export directory"
   ]
  },
  {
   "cell_type": "code",
   "execution_count": null,
   "id": "623573d3-4fad-4383-b004-9a32ac60b3d8",
   "metadata": {},
   "outputs": [],
   "source": [
    "export_dir = Path('./export')\n",
    "if not export_dir.is_dir():\n",
    "    export_dir.mkdir()\n",
    "    "
   ]
  },
  {
   "cell_type": "markdown",
   "id": "1ebffb48-c785-46b6-bf6d-3ac5dc11a94f",
   "metadata": {},
   "source": [
    "## Results "
   ]
  },
  {
   "cell_type": "code",
   "execution_count": null,
   "id": "5f59fcef-ef02-4521-aded-7298b36b53e5",
   "metadata": {},
   "outputs": [],
   "source": [
    "results_cs.score.apply(['mean', 'std', 'count'])"
   ]
  },
  {
   "cell_type": "code",
   "execution_count": null,
   "id": "31d5b5b1-5958-4218-baef-d414e35e5dbb",
   "metadata": {},
   "outputs": [],
   "source": [
    "results_ws_as[results_ws_as.pipeline=='FBCSP+LogisticReg'].score.apply(['mean', 'std', 'count'])"
   ]
  },
  {
   "cell_type": "code",
   "execution_count": null,
   "id": "856315c4-f111-446f-bb04-36a848e52977",
   "metadata": {},
   "outputs": [],
   "source": [
    "results_ws_as[results_ws_as.pipeline=='EEGNet+LP'].score.apply(['mean', 'std', 'count'])"
   ]
  },
  {
   "cell_type": "markdown",
   "id": "7e806356-c6d3-4e77-a19d-e9cbeae3eea4",
   "metadata": {},
   "source": [
    "### Results table"
   ]
  },
  {
   "cell_type": "code",
   "execution_count": null,
   "id": "8a7f232a-0fd2-43b8-b705-5665990e75c4",
   "metadata": {},
   "outputs": [],
   "source": [
    "df = pd.concat([results_cs, results_ws_as], ignore_index=True)\n",
    "df = df.pivot(index=subject_col, columns=pipeline_col, values=score_col).sort_index(key=pd.to_numeric)\n",
    "score_table = pd.concat([df, df.apply(['mean', 'std'])]).T\n",
    "\n",
    "print(score_table.to_latex(float_format=\"{:0.3f}\".format))\n",
    "score_table"
   ]
  },
  {
   "cell_type": "markdown",
   "id": "e3db38da-4232-454a-a195-220cdcc16be8",
   "metadata": {},
   "source": [
    "### Wilcoxon signer-rank test"
   ]
  },
  {
   "cell_type": "code",
   "execution_count": null,
   "id": "2867ff67-2552-4a17-bd4d-19e2966dab0b",
   "metadata": {},
   "outputs": [],
   "source": [
    "from scipy.stats import wilcoxon\n",
    "wil_ds = results_ws_as.pivot(index=subject_col, columns=pipeline_col, values=score_col).sort_index(key=pd.to_numeric)\n",
    "\n",
    "print(wilcoxon(wil_ds['EEGNet+LP'], wil_ds['FBCSP'], alternative='two-sided'))\n",
    "print(wil_ds.mean())\n",
    "wil_ds"
   ]
  },
  {
   "cell_type": "markdown",
   "id": "fb4fec2d-d2f5-4cc8-9e7f-a49e5166e698",
   "metadata": {},
   "source": [
    "## Performance plots"
   ]
  },
  {
   "cell_type": "code",
   "execution_count": null,
   "id": "6fe5cf6a-3eaa-438c-8fbe-f68b057bfbae",
   "metadata": {},
   "outputs": [],
   "source": [
    "df0 = results_df.copy()[results_df.pipeline=='EEGNet-CrossSubject']\n",
    "df1 = df0.copy()\n",
    "df0.loc[:, samples_col] = results_df[samples_col].min()\n",
    "df1.loc[:, samples_col] = results_df[samples_col].max()\n",
    "df3 = results_df.groupby([samples_col, pipeline_col, subject_col], as_index=False)[score_col].agg('mean')\n",
    "df = pd.concat([df3, df0, df1], join='outer', ignore_index=True)\n",
    "ticks = results_df[samples_col].unique()\n",
    "ticks = np.sort(ticks[~np.isnan(ticks)].astype(int)).tolist()\n"
   ]
  },
  {
   "cell_type": "code",
   "execution_count": null,
   "id": "0485a64b-5398-4bcd-b165-dd822a5ce30c",
   "metadata": {},
   "outputs": [],
   "source": [
    "sns.set_theme(style='whitegrid', context='paper')\n",
    "ax = sns.lineplot(data=df, x=samples_col, y=score_col, hue=pipeline_col, style=pipeline_col, dashes=[(1,0),(1,0),(4,1)], markers=['o','o','.']) #, aspect=1.3, )\n",
    "ax.set(xscale=\"log\", xticks=ticks, xticklabels=ticks)\n",
    "\n",
    "plt.savefig(f'export/acc_vs_num-samples_xlog.pdf', bbox_inches='tight')\n"
   ]
  },
  {
   "cell_type": "code",
   "execution_count": null,
   "id": "5e5de02a-c264-4bf8-b038-c757dc09cc4d",
   "metadata": {},
   "outputs": [],
   "source": [
    "sns.set_theme(style='whitegrid', context='paper')\n",
    "ax = sns.lineplot(data=df, x=samples_col, y=score_col, hue=pipeline_col, style=pipeline_col, dashes=[(1,0),(1,0),(4,1)], markers=['o','o','.']) #, aspect=1.3, )\n",
    "ax.set(xticks=ticks, xticklabels=ticks)\n",
    "\n",
    "plt.savefig(f'export/acc_vs_num-samples_xlin_exact-ticks.pdf', bbox_inches='tight')\n"
   ]
  },
  {
   "cell_type": "code",
   "execution_count": null,
   "id": "46f5d03c-6ae8-4369-81a2-3ac9534b4fc2",
   "metadata": {},
   "outputs": [],
   "source": [
    "sns.set_theme(style='whitegrid', context='paper')\n",
    "ax = sns.lineplot(data=df, x=samples_col, y=score_col, hue=pipeline_col, style=pipeline_col, dashes=[(1,0),(1,0),(4,1)], markers=['o','o','.']) #, aspect=1.3, )\n",
    "\n",
    "plt.savefig(f'export/acc_vs_num-samples_xlin.pdf', bbox_inches='tight')\n"
   ]
  },
  {
   "cell_type": "code",
   "execution_count": null,
   "id": "35391f62-6c89-4d1a-a1d0-e43e6374bf35",
   "metadata": {},
   "outputs": [],
   "source": [
    "# ax = sns.lineplot(data=df, x=samples_col, y=time_col, hue=pipeline_col, style=pipeline_col, dashes=[(1,0),(1,0),(4,1)]) #, aspect=1.3, )\n",
    "\n",
    "# plt.savefig(f'export/calib-time_vs_num-samples.pdf', bbox_inches='tight')"
   ]
  },
  {
   "cell_type": "markdown",
   "id": "066d5487-38ba-403a-9d19-3dacf5f73e39",
   "metadata": {},
   "source": [
    "## Projection plots\n",
    "### Functions"
   ]
  },
  {
   "cell_type": "code",
   "execution_count": null,
   "id": "c2211f76-2551-4326-a589-db23546c0652",
   "metadata": {},
   "outputs": [],
   "source": [
    "def sns_scatterplot(data, ax0=None, comment=None, **kwargs):\n",
    "    ax = sns.scatterplot(data=data, x='x', y='y', ax=ax0, **kwargs)\n",
    "    ax.set_xticklabels([])\n",
    "    ax.set_yticklabels([])\n",
    "    ax.set_xlabel('')\n",
    "    ax.set_ylabel('')\n",
    "    if comment is not None:\n",
    "        ax.text(\n",
    "            0.99,\n",
    "            0.01,\n",
    "            comment,\n",
    "            transform=ax.transAxes,\n",
    "            horizontalalignment=\"right\")\n",
    "    return ax"
   ]
  },
  {
   "cell_type": "markdown",
   "id": "915d4c8f-bef7-4e19-bf87-c597c554bf25",
   "metadata": {},
   "source": [
    "### Compute projections"
   ]
  },
  {
   "cell_type": "code",
   "execution_count": null,
   "id": "4a27d989-a9c8-464d-9dad-ecfe6117930f",
   "metadata": {},
   "outputs": [],
   "source": [
    "test_subject = 2\n",
    "%time X_emb = embeddings_dict[test_subject].transform(X)\n"
   ]
  },
  {
   "cell_type": "code",
   "execution_count": null,
   "id": "d50f6154-82f7-47c3-bfd5-28144e8762ec",
   "metadata": {},
   "outputs": [],
   "source": [
    "reduction_algo = 'TSNE'\n",
    "# reduction_algo = 'UMAP'\n",
    "\n",
    "if reduction_algo=='TSNE':\n",
    "    reducer = TSNE(n_components=2, perplexity=50, random_state=12, metric='euclidean', learning_rate='auto', init='pca', n_jobs=-1)\n",
    "elif reduction_algo=='UMAP':\n",
    "    reducer = UMAP(n_components=2, n_neighbors=15, min_dist=.25, n_jobs=-1)\n",
    "%time features_2d = reducer.fit_transform(X_emb)\n",
    "\n",
    "df_2d = pd.DataFrame(features_2d, columns=['x','y'])\n",
    "df_2d = pd.concat([df_2d, metadata], axis=1)\n",
    "df_2d['im_class'] = pd.Series(labels, dtype=pd.CategoricalDtype(categories=['right_hand', 'left_hand', 'rest', 'feet']))\n"
   ]
  },
  {
   "cell_type": "markdown",
   "id": "55b2c544-822a-46bd-a222-12ab2dcdb000",
   "metadata": {},
   "source": [
    "### Plots"
   ]
  },
  {
   "cell_type": "code",
   "execution_count": null,
   "id": "11c5f9ae-27b7-4e11-80b5-358615358c63",
   "metadata": {},
   "outputs": [],
   "source": [
    "sns.set_theme(style='white', context='paper')\n",
    "sns_scatterplot(data=df_2d, hue='im_class', alpha=.7, )# edgecolor=['k' if x else 'w' for x in df.is_test])\n",
    "\n",
    "plt.savefig(f'export/{reduction_algo.lower()}_merged_test-subj-{test_subject}.pdf', bbox_inches='tight')\n"
   ]
  },
  {
   "cell_type": "code",
   "execution_count": null,
   "id": "c4eee13d-7c11-4ed4-a67d-ffd15c83f96c",
   "metadata": {},
   "outputs": [],
   "source": [
    "sns.set_theme(style='white', context='paper')\n",
    "g = sns.FacetGrid(data=df_2d, col='subject', col_wrap=4, despine=False)\n",
    "g.map_dataframe(lambda **args: sns.kdeplot(data=df_2d, x=\"x\", y=\"y\", alpha=.5, hue=\"im_class\", levels=5))\n",
    "g.map_dataframe(sns.scatterplot, x='x', y='y', hue='im_class', alpha=.7, style='session',)# edgecolor=['k' if x else 'w' for x in df.is_test])\n",
    "g.set(xlabel='', ylabel='', xticks=[], yticks=[])\n",
    "\n",
    "print('test subject:', test_subject)\n",
    "test_axis = g.axes_dict[test_subject] \n",
    "test_axis.title.set_color('red')\n",
    "for spine in test_axis.spines.values():\n",
    "    spine.set_edgecolor('red')\n",
    "\n",
    "g.savefig(f'export/{reduction_algo.lower()}_splitted_test-subj-{test_subject}.pdf', bbox_inches='tight')\n"
   ]
  },
  {
   "cell_type": "markdown",
   "id": "b1bfbd2e-d3cc-4686-be28-c521dba75d6a",
   "metadata": {},
   "source": [
    "## SANDBOX"
   ]
  },
  {
   "cell_type": "code",
   "execution_count": null,
   "id": "dfbb8026-e743-4452-92d4-1f7d761fe39a",
   "metadata": {},
   "outputs": [],
   "source": [
    "\n",
    "from brokenaxes import brokenaxes\n"
   ]
  },
  {
   "cell_type": "code",
   "execution_count": null,
   "id": "29710852-271b-4971-a941-c4f34cd0a11e",
   "metadata": {},
   "outputs": [],
   "source": [
    "sns.set_theme(style='whitegrid', context='paper')\n",
    "ax = sns.lineplot(data=df, x=samples_col, y=score_col, hue=pipeline_col, style=pipeline_col, dashes=[(1,0),(1,0),(4,1)], ) #, aspect=1.3, )\n",
    "# d controls the angle of the break, 1 is 45 degrees I think.\n",
    "d = 1\n",
    "kwargs = dict(\n",
    "    marker=[(-1, -d), (1, d)],\n",
    "    markersize=5,\n",
    "    linestyle=\"-\",\n",
    "    color=\"w\",\n",
    "    mec=\"#000000\",\n",
    "    mew=1.2,\n",
    "    clip_on=False,\n",
    "    zorder=100,\n",
    ")\n",
    "\n",
    "xbreak = (100,110)\n",
    "ylim = ax.get_ylim()\n",
    "# you need to set the numerical position of the break manually, in this example between 6.4 and 6.6\n",
    "ax.plot(xbreak, [ylim[0], ylim[0]], **kwargs)\n",
    "ax.plot(xbreak, [ylim[1], ylim[1]], **kwargs)\n",
    "ax.set_ylim(ylim)\n",
    "\n",
    "plt.show()"
   ]
  },
  {
   "cell_type": "code",
   "execution_count": null,
   "id": "eb0bd78e-2074-420d-afce-e3bf89ea5c84",
   "metadata": {},
   "outputs": [],
   "source": [
    "fig, ax = plt.subplots(1, 1)\n",
    "ax.set_xlim(0.,100.)\n",
    "ax = sns.lineplot(data=df, x=samples_col, y=score_col, hue=pipeline_col, style=pipeline_col, dashes=[(1,0),(1,0),(4,1)], ax=ax) #, aspect=1.3, )\n",
    "ax = sns.lineplot(data=df[df[samples_col]>50], x=samples_col, y=score_col, hue=pipeline_col, style=pipeline_col, ax=ax, legend=False, markers=['o','o','o'], dashes=False, err_style=\"bars\", ) #, aspect=1.3, )\n",
    "plt.savefig('TEMP.pdf')\n"
   ]
  }
 ],
 "metadata": {
  "kernelspec": {
   "display_name": "Python 3",
   "language": "python",
   "name": "python3"
  },
  "language_info": {
   "codemirror_mode": {
    "name": "ipython",
    "version": 3
   },
   "file_extension": ".py",
   "mimetype": "text/x-python",
   "name": "python",
   "nbconvert_exporter": "python",
   "pygments_lexer": "ipython3",
   "version": "3.9.13"
  }
 },
 "nbformat": 4,
 "nbformat_minor": 5
}
